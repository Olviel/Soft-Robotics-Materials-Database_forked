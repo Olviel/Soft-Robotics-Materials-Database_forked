{
  "cells": [
    {
      "cell_type": "markdown",
      "metadata": {},
      "source": [
        "## Import Modules\n",
        "\n",
        "Scipy provides the *least_squares* optimization function"
      ]
    },
    {
      "cell_type": "code",
      "execution_count": 1,
      "metadata": {
        "trusted": true
      },
      "outputs": [],
      "source": [
        "# Pandas and table\n",
        "import pandas as pd\n",
        "# Opimization\n",
        "from scipy.optimize import least_squares\n",
        "import numpy as np\n",
        "# Plotting curve\n",
        "import matplotlib.pylab as plt"
      ]
    },
    {
      "cell_type": "markdown",
      "metadata": {},
      "source": [
        "## Definition of the model function used to fit the data\n",
        "In the following example we will fit experimantal data with the ***Ogden model***\n",
        "\n",
        "$\\sigma_{\\text{eng uniax}} = \\displaystyle\\sum_{p=1}^n 2\\mu_{p} \\left[\\lambda^{(\\alpha_{p}-1)} - \\lambda^{-(1/2\\alpha_{p}+1)}\\right]$\n",
        "\n",
        "For a 3rd order model, we have 6 parameters : $\\mu_{1}, \\alpha_{1}, \\mu_{2}, \\alpha_{2}, \\mu_{3}, \\alpha_{3}$"
      ]
    },
    {
      "cell_type": "code",
      "execution_count": 2,
      "metadata": {
        "trusted": true
      },
      "outputs": [],
      "source": [
        "def OgdenModel(trueStrain, parameters, order):\n",
        "    \"\"\"Ogden hyperelastic model (incompressible material under uniaxial tension)\n",
        "    Uses true strain and true stress data\"\"\"\n",
        "                \n",
        "    # parameter is a 1D array : [mu0,mu1,...,mun,alpha0,alpha1,...,alphan] \n",
        "    muVec = parameters.reshape(2, order)[0]\n",
        "    alphaVec = parameters.reshape(2, order)[1]\n",
        "    lambd = np.exp(trueStrain)\n",
        "    # broadcasting method to speed up computation\n",
        "    lambd = lambd[np.newaxis, :]\n",
        "    muVec = muVec[:order, np.newaxis]\n",
        "    alphaVec = alphaVec[:order, np.newaxis]\n",
        "        \n",
        "    trueStress = np.sum(2*muVec*(lambd**(alphaVec - 1) - lambd**(-((1/2)*alphaVec + 1))), axis=0)\n",
        "    return trueStress"
      ]
    },
    {
      "cell_type": "markdown",
      "metadata": {},
      "source": [
        "## Definition of the cost function\n",
        "\n",
        "The aim of the optimisation algorithm is to minimize the Residual Sum of Squares\n",
        "\n",
        "$\\textit{Residual Sum of Squares} = \\displaystyle\\sum_{i=1}^n \\left(\\sigma_{model} - \\sigma_{data}\\right)^{2}$"
      ]
    },
    {
      "cell_type": "code",
      "execution_count": 3,
      "metadata": {
        "trusted": true
      },
      "outputs": [],
      "source": [
        "# cost function to calculate the residuals. The fitting function holds the parameter values.  \n",
        "def objectiveFun_Callback(parameters, exp_strain, exp_stress):  \n",
        "    theo_stress = OgdenModel(exp_strain, parameters, order)   \n",
        "    residuals = theo_stress - exp_stress \n",
        "    return residuals"
      ]
    },
    {
      "cell_type": "markdown",
      "metadata": {},
      "source": [
        "## Read Experimental data"
      ]
    },
    {
      "cell_type": "code",
      "execution_count": 4,
      "metadata": {
        "trusted": true
      },
      "outputs": [],
      "source": [
        "file = 'DragonSkin20.csv' # Replace space by %20 for html url \n",
        "header = pd.read_csv(file, delimiter = ';', usecols = [\"PARAMETER\", \"INFO\", \"URL\"]).head(15)\n",
        "data = pd.read_csv(file, delimiter = ';',skiprows=18, names = ['Time (s)','True Strain','True Stress (MPa)','Engineering Strain','Engineering Stress (MPa)']) # the column headers are on line 16 from the top of the file"
      ]
    },
    {
      "cell_type": "code",
      "execution_count": 5,
      "metadata": {
        "trusted": true
      },
      "outputs": [
        {
          "data": {
            "text/html": [
              "<div>\n",
              "<style scoped>\n",
              "    .dataframe tbody tr th:only-of-type {\n",
              "        vertical-align: middle;\n",
              "    }\n",
              "\n",
              "    .dataframe tbody tr th {\n",
              "        vertical-align: top;\n",
              "    }\n",
              "\n",
              "    .dataframe thead th {\n",
              "        text-align: right;\n",
              "    }\n",
              "</style>\n",
              "<table border=\"1\" class=\"dataframe\">\n",
              "  <thead>\n",
              "    <tr style=\"text-align: right;\">\n",
              "      <th></th>\n",
              "      <th>PARAMETER</th>\n",
              "      <th>INFO</th>\n",
              "      <th>URL</th>\n",
              "    </tr>\n",
              "  </thead>\n",
              "  <tbody>\n",
              "    <tr>\n",
              "      <th>0</th>\n",
              "      <td>Specimen Thickness (mm)</td>\n",
              "      <td>3</td>\n",
              "      <td>NaN</td>\n",
              "    </tr>\n",
              "    <tr>\n",
              "      <th>1</th>\n",
              "      <td>Specimen Width (mm)</td>\n",
              "      <td>6</td>\n",
              "      <td>NaN</td>\n",
              "    </tr>\n",
              "    <tr>\n",
              "      <th>2</th>\n",
              "      <td>Specimen Length (mm)</td>\n",
              "      <td>33</td>\n",
              "      <td>NaN</td>\n",
              "    </tr>\n",
              "    <tr>\n",
              "      <th>3</th>\n",
              "      <td>Specimen Cross-section (cm^2)</td>\n",
              "      <td>0.18</td>\n",
              "      <td>NaN</td>\n",
              "    </tr>\n",
              "    <tr>\n",
              "      <th>4</th>\n",
              "      <td>Standard</td>\n",
              "      <td>ASTM D412</td>\n",
              "      <td>NaN</td>\n",
              "    </tr>\n",
              "    <tr>\n",
              "      <th>5</th>\n",
              "      <td>Type of test</td>\n",
              "      <td>Pull-to-failure</td>\n",
              "      <td>NaN</td>\n",
              "    </tr>\n",
              "    <tr>\n",
              "      <th>6</th>\n",
              "      <td>Speed (mm/min)</td>\n",
              "      <td>450</td>\n",
              "      <td>NaN</td>\n",
              "    </tr>\n",
              "    <tr>\n",
              "      <th>7</th>\n",
              "      <td>Machine</td>\n",
              "      <td>Instron  5569</td>\n",
              "      <td>NaN</td>\n",
              "    </tr>\n",
              "    <tr>\n",
              "      <th>8</th>\n",
              "      <td>Load Cell</td>\n",
              "      <td>1 kN - Instron  2525-806</td>\n",
              "      <td>NaN</td>\n",
              "    </tr>\n",
              "    <tr>\n",
              "      <th>9</th>\n",
              "      <td>Grippers</td>\n",
              "      <td>Instron 2710-010</td>\n",
              "      <td>NaN</td>\n",
              "    </tr>\n",
              "    <tr>\n",
              "      <th>10</th>\n",
              "      <td>Strain Measurement</td>\n",
              "      <td>Global</td>\n",
              "      <td>NaN</td>\n",
              "    </tr>\n",
              "    <tr>\n",
              "      <th>11</th>\n",
              "      <td>Strain calculation</td>\n",
              "      <td>Derived from the machine crosshead displacemen...</td>\n",
              "      <td>NaN</td>\n",
              "    </tr>\n",
              "    <tr>\n",
              "      <th>12</th>\n",
              "      <td>Lab</td>\n",
              "      <td>Univ. Savoie Mont Blanc - SYMME Lab, 7400 Anne...</td>\n",
              "      <td>NaN</td>\n",
              "    </tr>\n",
              "    <tr>\n",
              "      <th>13</th>\n",
              "      <td>Material supplier</td>\n",
              "      <td>Smooth-On</td>\n",
              "      <td>https://www.smooth-on.com/products/dragon-skin...</td>\n",
              "    </tr>\n",
              "    <tr>\n",
              "      <th>14</th>\n",
              "      <td>Material</td>\n",
              "      <td>Dragon Skin 20</td>\n",
              "      <td>NaN</td>\n",
              "    </tr>\n",
              "  </tbody>\n",
              "</table>\n",
              "</div>"
            ],
            "text/plain": [
              "                        PARAMETER  \\\n",
              "0         Specimen Thickness (mm)   \n",
              "1             Specimen Width (mm)   \n",
              "2            Specimen Length (mm)   \n",
              "3   Specimen Cross-section (cm^2)   \n",
              "4                        Standard   \n",
              "5                    Type of test   \n",
              "6                  Speed (mm/min)   \n",
              "7                         Machine   \n",
              "8                       Load Cell   \n",
              "9                        Grippers   \n",
              "10             Strain Measurement   \n",
              "11             Strain calculation   \n",
              "12                            Lab   \n",
              "13              Material supplier   \n",
              "14                       Material   \n",
              "\n",
              "                                                 INFO  \\\n",
              "0                                                   3   \n",
              "1                                                   6   \n",
              "2                                                  33   \n",
              "3                                                0.18   \n",
              "4                                           ASTM D412   \n",
              "5                                     Pull-to-failure   \n",
              "6                                                 450   \n",
              "7                                       Instron  5569   \n",
              "8                            1 kN - Instron  2525-806   \n",
              "9                                   Instron 2710-010    \n",
              "10                                             Global   \n",
              "11  Derived from the machine crosshead displacemen...   \n",
              "12  Univ. Savoie Mont Blanc - SYMME Lab, 7400 Anne...   \n",
              "13                                          Smooth-On   \n",
              "14                                     Dragon Skin 20   \n",
              "\n",
              "                                                  URL  \n",
              "0                                                 NaN  \n",
              "1                                                 NaN  \n",
              "2                                                 NaN  \n",
              "3                                                 NaN  \n",
              "4                                                 NaN  \n",
              "5                                                 NaN  \n",
              "6                                                 NaN  \n",
              "7                                                 NaN  \n",
              "8                                                 NaN  \n",
              "9                                                 NaN  \n",
              "10                                                NaN  \n",
              "11                                                NaN  \n",
              "12                                                NaN  \n",
              "13  https://www.smooth-on.com/products/dragon-skin...  \n",
              "14                                                NaN  "
            ]
          },
          "execution_count": 5,
          "metadata": {},
          "output_type": "execute_result"
        }
      ],
      "source": [
        "header"
      ]
    },
    {
      "cell_type": "code",
      "execution_count": 6,
      "metadata": {
        "trusted": true
      },
      "outputs": [
        {
          "data": {
            "text/html": [
              "<div>\n",
              "<style scoped>\n",
              "    .dataframe tbody tr th:only-of-type {\n",
              "        vertical-align: middle;\n",
              "    }\n",
              "\n",
              "    .dataframe tbody tr th {\n",
              "        vertical-align: top;\n",
              "    }\n",
              "\n",
              "    .dataframe thead th {\n",
              "        text-align: right;\n",
              "    }\n",
              "</style>\n",
              "<table border=\"1\" class=\"dataframe\">\n",
              "  <thead>\n",
              "    <tr style=\"text-align: right;\">\n",
              "      <th></th>\n",
              "      <th>Time (s)</th>\n",
              "      <th>True Strain</th>\n",
              "      <th>True Stress (MPa)</th>\n",
              "      <th>Engineering Strain</th>\n",
              "      <th>Engineering Stress (MPa)</th>\n",
              "    </tr>\n",
              "  </thead>\n",
              "  <tbody>\n",
              "    <tr>\n",
              "      <th>0</th>\n",
              "      <td>0.2</td>\n",
              "      <td>0.043637</td>\n",
              "      <td>0.009762</td>\n",
              "      <td>0.044600</td>\n",
              "      <td>0.009343</td>\n",
              "    </tr>\n",
              "    <tr>\n",
              "      <th>1</th>\n",
              "      <td>0.3</td>\n",
              "      <td>0.065743</td>\n",
              "      <td>0.019337</td>\n",
              "      <td>0.067950</td>\n",
              "      <td>0.018107</td>\n",
              "    </tr>\n",
              "    <tr>\n",
              "      <th>2</th>\n",
              "      <td>0.4</td>\n",
              "      <td>0.086950</td>\n",
              "      <td>0.028433</td>\n",
              "      <td>0.090843</td>\n",
              "      <td>0.026063</td>\n",
              "    </tr>\n",
              "    <tr>\n",
              "      <th>3</th>\n",
              "      <td>0.5</td>\n",
              "      <td>0.107613</td>\n",
              "      <td>0.036371</td>\n",
              "      <td>0.113620</td>\n",
              "      <td>0.032660</td>\n",
              "    </tr>\n",
              "    <tr>\n",
              "      <th>4</th>\n",
              "      <td>0.6</td>\n",
              "      <td>0.127830</td>\n",
              "      <td>0.044294</td>\n",
              "      <td>0.136360</td>\n",
              "      <td>0.038980</td>\n",
              "    </tr>\n",
              "    <tr>\n",
              "      <th>...</th>\n",
              "      <td>...</td>\n",
              "      <td>...</td>\n",
              "      <td>...</td>\n",
              "      <td>...</td>\n",
              "      <td>...</td>\n",
              "    </tr>\n",
              "    <tr>\n",
              "      <th>399</th>\n",
              "      <td>40.1</td>\n",
              "      <td>2.313885</td>\n",
              "      <td>44.406199</td>\n",
              "      <td>9.113635</td>\n",
              "      <td>4.390725</td>\n",
              "    </tr>\n",
              "    <tr>\n",
              "      <th>400</th>\n",
              "      <td>40.2</td>\n",
              "      <td>2.316130</td>\n",
              "      <td>44.617326</td>\n",
              "      <td>9.136365</td>\n",
              "      <td>4.401710</td>\n",
              "    </tr>\n",
              "    <tr>\n",
              "      <th>401</th>\n",
              "      <td>40.3</td>\n",
              "      <td>2.318370</td>\n",
              "      <td>44.835612</td>\n",
              "      <td>9.159090</td>\n",
              "      <td>4.413350</td>\n",
              "    </tr>\n",
              "    <tr>\n",
              "      <th>402</th>\n",
              "      <td>40.4</td>\n",
              "      <td>2.320600</td>\n",
              "      <td>45.047888</td>\n",
              "      <td>9.181820</td>\n",
              "      <td>4.424345</td>\n",
              "    </tr>\n",
              "    <tr>\n",
              "      <th>403</th>\n",
              "      <td>40.5</td>\n",
              "      <td>2.322830</td>\n",
              "      <td>45.249277</td>\n",
              "      <td>9.204550</td>\n",
              "      <td>4.434225</td>\n",
              "    </tr>\n",
              "  </tbody>\n",
              "</table>\n",
              "<p>404 rows × 5 columns</p>\n",
              "</div>"
            ],
            "text/plain": [
              "     Time (s)  True Strain  True Stress (MPa)  Engineering Strain  \\\n",
              "0         0.2     0.043637           0.009762            0.044600   \n",
              "1         0.3     0.065743           0.019337            0.067950   \n",
              "2         0.4     0.086950           0.028433            0.090843   \n",
              "3         0.5     0.107613           0.036371            0.113620   \n",
              "4         0.6     0.127830           0.044294            0.136360   \n",
              "..        ...          ...                ...                 ...   \n",
              "399      40.1     2.313885          44.406199            9.113635   \n",
              "400      40.2     2.316130          44.617326            9.136365   \n",
              "401      40.3     2.318370          44.835612            9.159090   \n",
              "402      40.4     2.320600          45.047888            9.181820   \n",
              "403      40.5     2.322830          45.249277            9.204550   \n",
              "\n",
              "     Engineering Stress (MPa)  \n",
              "0                    0.009343  \n",
              "1                    0.018107  \n",
              "2                    0.026063  \n",
              "3                    0.032660  \n",
              "4                    0.038980  \n",
              "..                        ...  \n",
              "399                  4.390725  \n",
              "400                  4.401710  \n",
              "401                  4.413350  \n",
              "402                  4.424345  \n",
              "403                  4.434225  \n",
              "\n",
              "[404 rows x 5 columns]"
            ]
          },
          "execution_count": 6,
          "metadata": {},
          "output_type": "execute_result"
        }
      ],
      "source": [
        "data"
      ]
    },
    {
      "cell_type": "code",
      "execution_count": 7,
      "metadata": {
        "trusted": true
      },
      "outputs": [],
      "source": [
        "exp_strain = data['True Strain'].values        # .values converts panda series to numy array\n",
        "exp_stress = data['True Stress (MPa)'].values"
      ]
    },
    {
      "cell_type": "markdown",
      "metadata": {},
      "source": [
        "## Least square optimisation function"
      ]
    },
    {
      "cell_type": "code",
      "execution_count": 8,
      "metadata": {
        "trusted": true
      },
      "outputs": [],
      "source": [
        "order = 3\n",
        "initialGuessMu = np.array([0.1]*order)     # [\"µ1\",\"µ2\",\"µ3\"]\n",
        "initialGuessAlpha = np.array([0.2]*order)  # [\"α1\",\"α2\",\"α3\"]\n",
        "initialGuessParam = np.append(initialGuessMu,initialGuessAlpha)\n",
        "nbparam = order*2\n",
        "param_names = [\"µ1\",\"µ2\",\"µ3\",\"α1\",\"α2\",\"α3\"]"
      ]
    },
    {
      "cell_type": "code",
      "execution_count": 9,
      "metadata": {
        "trusted": true
      },
      "outputs": [],
      "source": [
        "# The least_squares package calls the Levenberg-Marquandt algorithm.\n",
        "# best-fit paramters are kept within optim_result.x\n",
        "optim_result = least_squares(objectiveFun_Callback, initialGuessParam, method ='lm', args=(exp_strain, exp_stress))\n",
        "optim_parameters = optim_result.x\n",
        "   \n",
        "theo_stress = OgdenModel(exp_strain, optim_parameters, order)"
      ]
    },
    {
      "cell_type": "markdown",
      "metadata": {},
      "source": [
        "## Results"
      ]
    },
    {
      "cell_type": "code",
      "execution_count": 10,
      "metadata": {
        "trusted": true
      },
      "outputs": [
        {
          "name": "stdout",
          "output_type": "stream",
          "text": [
            "optimised parameters:\n",
            "µ1=0.007410965928874807\n",
            "µ2=0.08212784341342322\n",
            "µ3=0.011386289820264345\n",
            "α1=3.336147096585031\n",
            "α2=3.336174331775407\n",
            "α3=3.336183246693289\n"
          ]
        }
      ],
      "source": [
        "print('optimised parameters:')\n",
        "print('µ1=' + str(optim_parameters[0]))\n",
        "print('µ2=' + str(optim_parameters[1]))\n",
        "print('µ3=' + str(optim_parameters[2]))\n",
        "print('α1=' + str(optim_parameters[3]))\n",
        "print('α2=' + str(optim_parameters[4]))\n",
        "print('α3=' + str(optim_parameters[5]))"
      ]
    },
    {
      "cell_type": "code",
      "execution_count": 11,
      "metadata": {
        "trusted": true
      },
      "outputs": [
        {
          "data": {
            "image/png": "[encoded data removed]",
            "text/plain": [
              "<Figure size 432x288 with 1 Axes>"
            ]
          },
          "metadata": {
            "needs_background": "light"
          },
          "output_type": "display_data"
        }
      ],
      "source": [
        "# Plotting the data\n",
        "plt.plot(exp_strain,exp_stress,'k', marker=\"o\", markersize=2, linestyle = 'None')\n",
        "plt.plot(exp_strain,theo_stress,'r', linewidth=1)\n",
        "#plt.title('Least-squares fit to data')\n",
        "plt.xlabel('True Strain ' + r'$ \\epsilon$')\n",
        "plt.ylabel('True Stress ' +  r'$ \\sigma$' + ' (MPa)')\n",
        "plt.legend(['Experimental Data', 'Ogden model'],loc=2)\n",
        "plt.grid(visible=None, which='both', axis='both')"
      ]
    },
    {
      "cell_type": "code",
      "execution_count": 12,
      "metadata": {},
      "outputs": [
        {
          "name": "stdout",
          "output_type": "stream",
          "text": [
            "2.0734460377039805\n"
          ]
        }
      ],
      "source": [
        "# Define the strain value you want to evaluate\n",
        "desired_strain = np.array([1.0])\n",
        "\n",
        "# Compute the true stress using the Ogden model for strain=1.0\n",
        "desired_stress = OgdenModel(desired_strain, optim_parameters, order)\n",
        "\n",
        "print(desired_stress[0])"
      ]
    },
    {
      "cell_type": "code",
      "execution_count": 13,
      "metadata": {},
      "outputs": [
        {
          "data": {
            "text/plain": [
              "Text(0, 0.5, '$\\\\Delta P_{open}$ [Pa]')"
            ]
          },
          "execution_count": 13,
          "metadata": {},
          "output_type": "execute_result"
        },
        {
          "data": {
            "image/png": "[encoded data removed]",
            "text/plain": [
              "<Figure size 432x288 with 1 Axes>"
            ]
          },
          "metadata": {
            "needs_background": "light"
          },
          "output_type": "display_data"
        }
      ],
      "source": [
        "ID = 4e-3 # m\n",
        "t_inlet = 2e-3# m\n",
        "D=30e-3 #m\n",
        "t_membrane=1e-3 #m\n",
        "A_membrane = D*t_membrane #m2\n",
        "\n",
        "l0 = D \n",
        "h = np.linspace(0.1,10,40)*1e-3\n",
        "l1= np.array(2*np.sqrt((D-(ID+2*t_inlet)/2)**2+h**2)+ID+2*t_inlet)\n",
        "stress_membrane = OgdenModel(l1/l0, optim_parameters, order) #Mpa [N/mm2]\n",
        "stress_membrane\n",
        "F_membrane=stress_membrane*(A_membrane*1e6) #N\n",
        "A_inlet = np.pi/4*ID**2 #M2\n",
        "P_open = F_membrane/A_inlet #N/m2\n",
        "plt.plot(h*1000,P_open/1000)\n",
        "plt.xlabel('Height protrusion [$mm$]')\n",
        "plt.ylabel('$\\\\Delta P_{open}$ [Pa]')"
      ]
    },
    {
      "cell_type": "code",
      "execution_count": 14,
      "metadata": {},
      "outputs": [
        {
          "data": {
            "text/plain": [
              "array([2.00001282, 2.00016051, 2.00047338, 2.00095134, 2.00159424,\n",
              "       2.00240192, 2.00337412, 2.00451059, 2.005811  , 2.00727498,\n",
              "       2.00890211, 2.01069195, 2.01264399, 2.01475769, 2.01703246,\n",
              "       2.01946767, 2.02206267, 2.02481673, 2.02772912, 2.03079905,\n",
              "       2.03402569, 2.0374082 , 2.04094568, 2.0446372 , 2.04848181,\n",
              "       2.05247853, 2.05662632, 2.06092414, 2.06537093, 2.06996556,\n",
              "       2.07470693, 2.07959387, 2.08462522, 2.08979978, 2.09511632,\n",
              "       2.10057362, 2.10617043, 2.11190547, 2.11777746, 2.1237851 ])"
            ]
          },
          "execution_count": 14,
          "metadata": {},
          "output_type": "execute_result"
        }
      ],
      "source": [
        "l1/l0"
      ]
    },
    {
      "cell_type": "code",
      "execution_count": 15,
      "metadata": {},
      "outputs": [],
      "source": [
        "import numpy as np\n",
        "\n",
        "def compute_P_open(h, optim_parameters, order, ID, t_inlet, D, t_membrane):\n",
        "    \"\"\"\n",
        "    Computes P_open for given height values and Ogden parameters.\n",
        "    \n",
        "    Parameters:\n",
        "    - h: Array of height values of the protrusion\n",
        "    - optim_parameters: Optimized parameters for the Ogden model\n",
        "    - order: Order of the Ogden model\n",
        "    - ID: internal diameter inlet\n",
        "    - t_inlet: thickness of protrusion\n",
        "    - D = dimater membrane \n",
        "    - t_membrane = thickness membrane\n",
        "    \n",
        "    Returns:\n",
        "    - P_open: Array of P_open values for the given height values\n",
        "    \"\"\"\n",
        "    \n",
        "    # Derived parameters\n",
        "    A_membrane = D * t_membrane\n",
        "    #print('Area is '+str(A_membrane))\n",
        "    l0 = D\n",
        "    l1 = 2 * np.sqrt((D - (ID + 2*t_inlet) / 2)**2 + h**2) + ID + 2*t_inlet\n",
        "    \n",
        "    # Compute the membrane stress using the Ogden model\n",
        "    stress_membrane = OgdenModel((l1-l0)/l0, optim_parameters, order) #MPa = N/mm2\n",
        "    \n",
        "    # Compute the force on the membrane\n",
        "    F_membrane = stress_membrane * (A_membrane*1e6) #N/mm2*mm2 = N\n",
        "    #print('Force'+str(F_membrane))\n",
        "    \n",
        "    # Compute the area of the inlet\n",
        "    A_inlet = (np.pi / 4) * ID**2\n",
        "    \n",
        "    # Compute P_open\n",
        "    P_open = F_membrane / A_inlet \n",
        "    \n",
        "    return P_open\n"
      ]
    },
    {
      "cell_type": "code",
      "execution_count": 19,
      "metadata": {},
      "outputs": [
        {
          "name": "stdout",
          "output_type": "stream",
          "text": [
            "[3168090.33260628 3169221.19911902 3171618.06493812 3175283.00202043\n",
            " 3180219.17936825 3186430.86685772 3193923.44039591 3202703.38841182\n",
            " 3212778.31968783 3224156.97253958 3236849.22535364 3250866.10849368\n",
            " 3266219.81758762 3282923.72820929 3300992.41197036 3320441.65403909\n",
            " 3341288.47210501 3363551.1368095  3387249.19366475 3412403.48648481\n",
            " 3439036.18235482 3467170.79816613 3496832.22874716 3528046.77662202\n",
            " 3560842.18343092 3595247.6630488  3631293.93644067 3669013.26829487\n",
            " 3708439.5054776  3749608.11735474 3792556.23802969 3837322.71054842\n",
            " 3883948.13312595 3932474.90745119 3982947.28913    4035411.44032948\n",
            " 4089915.48468968 4146509.56457185 4205245.90071603 4266178.85438396]\n"
          ]
        },
        {
          "data": {
            "image/png": "[encoded data removed]",
            "text/plain": [
              "<Figure size 432x288 with 1 Axes>"
            ]
          },
          "metadata": {
            "needs_background": "light"
          },
          "output_type": "display_data"
        }
      ],
      "source": [
        "h_values = np.linspace(0.1, 10, 40) * 1e-3  # Vary height of inlet \n",
        "t_values= 1e-3#np.linspace(0.1,1.5,4)*1e-3 #vary thickness of membrane \n",
        "ID = 5e-3 # internal diameter of the inlet [m]\n",
        "t_inlet = 2e-3#  thickness of the inlet [m]\n",
        "D=30e-3 # Diameter membrane [m]\n",
        "\"\"\"\"\n",
        "for thickness in t_values:\n",
        "    P_open_values = compute_P_open(h_values, optim_parameters, order, ID, t_inlet, D, thickness)\n",
        "    plt.plot(h_values*1000,P_open_values/1000,label=str(round(thickness*1000,2))+'[$mm$]')\n",
        "\"\"\"\n",
        "P_open_values = compute_P_open(h_values, optim_parameters, order, ID, t_inlet, D, t_values)\n",
        "plt.plot(h_values*1000,P_open_values/1000,label=str(round(thickness*1000,2))+'[$mm$]')\n",
        "\n",
        "plt.xlabel('Height protrusion [$mm$]')\n",
        "plt.ylabel('$\\\\Delta P_{open}$ [kPa]')\n",
        "plt.legend()\n",
        "plt.grid()\n",
        "\n",
        "print(P_open_values)"
      ]
    },
    {
      "cell_type": "code",
      "execution_count": 23,
      "metadata": {},
      "outputs": [
        {
          "ename": "ValueError",
          "evalue": "operands could not be broadcast together with shapes (100,) (3,) ",
          "output_type": "error",
          "traceback": [
            "\u001b[1;31m---------------------------------------------------------------------------\u001b[0m",
            "\u001b[1;31mValueError\u001b[0m                                Traceback (most recent call last)",
            "\u001b[1;32m<ipython-input-23-c2ef2457333c>\u001b[0m in \u001b[0;36m<module>\u001b[1;34m\u001b[0m\n\u001b[0;32m      6\u001b[0m \u001b[1;33m\u001b[0m\u001b[0m\n\u001b[0;32m      7\u001b[0m \u001b[1;32mfor\u001b[0m \u001b[0mdiameter\u001b[0m \u001b[1;32min\u001b[0m \u001b[0mh_values\u001b[0m\u001b[1;33m:\u001b[0m\u001b[1;33m\u001b[0m\u001b[1;33m\u001b[0m\u001b[0m\n\u001b[1;32m----> 8\u001b[1;33m     \u001b[0mP_close_values\u001b[0m \u001b[1;33m=\u001b[0m \u001b[0mcompute_P_close\u001b[0m\u001b[1;33m(\u001b[0m\u001b[0mh_values\u001b[0m\u001b[1;33m,\u001b[0m \u001b[0moptim_parameters\u001b[0m\u001b[1;33m,\u001b[0m \u001b[0morder\u001b[0m\u001b[1;33m,\u001b[0m \u001b[0mID\u001b[0m\u001b[1;33m,\u001b[0m \u001b[0mt_inlet\u001b[0m\u001b[1;33m,\u001b[0m \u001b[0mD\u001b[0m\u001b[1;33m,\u001b[0m \u001b[0mt_membrane\u001b[0m\u001b[1;33m)\u001b[0m\u001b[1;33m\u001b[0m\u001b[1;33m\u001b[0m\u001b[0m\n\u001b[0m\u001b[0;32m      9\u001b[0m     \u001b[0mplt\u001b[0m\u001b[1;33m.\u001b[0m\u001b[0mplot\u001b[0m\u001b[1;33m(\u001b[0m\u001b[0mh_values\u001b[0m\u001b[1;33m*\u001b[0m\u001b[1;36m1000\u001b[0m\u001b[1;33m,\u001b[0m\u001b[0mP_open_values\u001b[0m\u001b[1;33m/\u001b[0m\u001b[1;36m1000\u001b[0m\u001b[1;33m,\u001b[0m\u001b[0mlabel\u001b[0m\u001b[1;33m=\u001b[0m\u001b[0mstr\u001b[0m\u001b[1;33m(\u001b[0m\u001b[0mround\u001b[0m\u001b[1;33m(\u001b[0m\u001b[0mh\u001b[0m\u001b[1;33m*\u001b[0m\u001b[1;36m1000\u001b[0m\u001b[1;33m,\u001b[0m\u001b[1;36m2\u001b[0m\u001b[1;33m)\u001b[0m\u001b[1;33m)\u001b[0m\u001b[1;33m+\u001b[0m\u001b[1;34m'[$mm$]'\u001b[0m\u001b[1;33m)\u001b[0m\u001b[1;33m\u001b[0m\u001b[1;33m\u001b[0m\u001b[0m\n\u001b[0;32m     10\u001b[0m \u001b[0mP_open_values\u001b[0m \u001b[1;33m=\u001b[0m \u001b[0mcompute_P_close\u001b[0m\u001b[1;33m(\u001b[0m\u001b[0mh_values\u001b[0m\u001b[1;33m,\u001b[0m \u001b[0moptim_parameters\u001b[0m\u001b[1;33m,\u001b[0m \u001b[0morder\u001b[0m\u001b[1;33m,\u001b[0m \u001b[0mID\u001b[0m\u001b[1;33m,\u001b[0m \u001b[0mt_inlet\u001b[0m\u001b[1;33m,\u001b[0m \u001b[0mD\u001b[0m\u001b[1;33m,\u001b[0m \u001b[0mt_values\u001b[0m\u001b[1;33m)\u001b[0m\u001b[1;33m\u001b[0m\u001b[1;33m\u001b[0m\u001b[0m\n",
            "\u001b[1;32m<ipython-input-22-7a765e7afc64>\u001b[0m in \u001b[0;36mcompute_P_close\u001b[1;34m(h, optim_parameters, order, ID, t_inlet, D, t_membrane)\u001b[0m\n\u001b[0;32m     21\u001b[0m     \u001b[1;31m#print('Area is '+str(A_membrane))\u001b[0m\u001b[1;33m\u001b[0m\u001b[1;33m\u001b[0m\u001b[1;33m\u001b[0m\u001b[0m\n\u001b[0;32m     22\u001b[0m     \u001b[0ml0\u001b[0m \u001b[1;33m=\u001b[0m \u001b[0mD\u001b[0m\u001b[1;33m\u001b[0m\u001b[1;33m\u001b[0m\u001b[0m\n\u001b[1;32m---> 23\u001b[1;33m     \u001b[0ml1\u001b[0m \u001b[1;33m=\u001b[0m \u001b[1;36m2\u001b[0m \u001b[1;33m*\u001b[0m \u001b[0mnp\u001b[0m\u001b[1;33m.\u001b[0m\u001b[0msqrt\u001b[0m\u001b[1;33m(\u001b[0m\u001b[1;33m(\u001b[0m\u001b[0mD\u001b[0m \u001b[1;33m-\u001b[0m \u001b[1;33m(\u001b[0m\u001b[0mID\u001b[0m \u001b[1;33m+\u001b[0m \u001b[1;36m2\u001b[0m\u001b[1;33m*\u001b[0m\u001b[0mt_inlet\u001b[0m\u001b[1;33m)\u001b[0m \u001b[1;33m/\u001b[0m \u001b[1;36m2\u001b[0m\u001b[1;33m)\u001b[0m\u001b[1;33m**\u001b[0m\u001b[1;36m2\u001b[0m \u001b[1;33m+\u001b[0m \u001b[0mh\u001b[0m\u001b[1;33m**\u001b[0m\u001b[1;36m2\u001b[0m\u001b[1;33m)\u001b[0m \u001b[1;33m+\u001b[0m \u001b[0mID\u001b[0m \u001b[1;33m+\u001b[0m \u001b[1;36m2\u001b[0m\u001b[1;33m*\u001b[0m\u001b[0mt_inlet\u001b[0m\u001b[1;33m\u001b[0m\u001b[1;33m\u001b[0m\u001b[0m\n\u001b[0m\u001b[0;32m     24\u001b[0m \u001b[1;33m\u001b[0m\u001b[0m\n\u001b[0;32m     25\u001b[0m     \u001b[1;31m# Compute the membrane stress using the Ogden model\u001b[0m\u001b[1;33m\u001b[0m\u001b[1;33m\u001b[0m\u001b[1;33m\u001b[0m\u001b[0m\n",
            "\u001b[1;31mValueError\u001b[0m: operands could not be broadcast together with shapes (100,) (3,) "
          ]
        }
      ],
      "source": [
        "def compute_P_close(h, optim_parameters, order, ID, t_inlet, D, t_membrane):\n",
        "    \"\"\"\n",
        "    Computes P_open for given height values and Ogden parameters.\n",
        "    \n",
        "    Parameters:\n",
        "    - h: Array of height values of the protrusion\n",
        "    - optim_parameters: Optimized parameters for the Ogden model\n",
        "    - order: Order of the Ogden model\n",
        "    - ID: internal diameter inlet\n",
        "    - t_inlet: thickness of protrusion\n",
        "    - D = dimater membrane \n",
        "    - t_membrane = thickness membrane\n",
        "    ameter inlet, t_inlet: thickness of protrusion, D = dimater membrane, t_membrane = thickness membrane\n",
        "    \n",
        "    Returns:\n",
        "    - P_close: Array of P_close values for the given height values\n",
        "    \"\"\"\n",
        "    \n",
        "    # Derived parameters\n",
        "    A_membrane = D * t_membrane\n",
        "    #print('Area is '+str(A_membrane))\n",
        "    l0 = D\n",
        "    l1 = 2 * np.sqrt((D - (ID + 2*t_inlet) / 2)**2 + h**2) + ID + 2*t_inlet\n",
        "    \n",
        "    # Compute the membrane stress using the Ogden model\n",
        "    stress_membrane = OgdenModel((l1-l0)/l0, optim_parameters, order) #MPa = N/mm2\n",
        "    \n",
        "    # Compute the force on the membrane\n",
        "    F_membrane = stress_membrane * (A_membrane*1e6) #N/mm2*mm2 = N\n",
        "    #print('Force'+str(F_membrane))\n",
        "    \n",
        "    # Compute the area of the inlet\n",
        "    \n",
        "    # Compute P_open\n",
        "    P_close = F_membrane *4/(np.pi*D**2)\n",
        "    \n",
        "    return P_close\n",
        "\n",
        "h_values = np.linspace(5, 15, 3) * 1e-3  # Vary height of inlet \n",
        "t_membrane= 1e-3#np.linspace(0.1,1.5,4)*1e-3 #vary thickness of membrane \n",
        "ID = 5e-3 # internal diameter of the inlet [m]\n",
        "t_inlet = 2e-3#  thickness of the inlet [m]\n",
        "D=np.linspace(5,50,100)*1e-3 # Diameter membrane [m]\n",
        "\n",
        "for diameter in h_values:\n",
        "    P_close_values = compute_P_close(h_values, optim_parameters, order, ID, t_inlet, D, t_membrane)\n",
        "    plt.plot(h_values*1000,P_open_values/1000,label=str(round(h*1000,2))+'[$mm$]')\n",
        "P_open_values = compute_P_close(h_values, optim_parameters, order, ID, t_inlet, D, t_values)\n",
        "plt.plot(h_values*1000,P_open_values/1000,label=str(round(thickness*1000,2))+'[$mm$]')\n",
        "\n",
        "plt.xlabel('Height protrusion [$mm$]')\n",
        "plt.ylabel('$\\\\Delta P_{open}$ [kPa]')\n",
        "plt.legend()\n",
        "plt.grid()\n",
        "\n",
        "print(P_open_values)\n"
      ]
    }
  ],
  "metadata": {
    "kernelspec": {
      "display_name": "base",
      "language": "python",
      "name": "python3"
    },
    "language_info": {
      "codemirror_mode": {
        "name": "ipython",
        "version": 3
      },
      "file_extension": ".py",
      "mimetype": "text/x-python",
      "name": "python",
      "nbconvert_exporter": "python",
      "pygments_lexer": "ipython3",
      "version": "3.8.8"
    }
  },
  "nbformat": 4,
  "nbformat_minor": 4
}
